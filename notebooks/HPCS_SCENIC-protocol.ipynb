{
 "cells": [
  {
   "cell_type": "markdown",
   "metadata": {},
   "source": [
    "# pySCENIC protocol: Pituitary Inflammation Standard Workflow\n",
    "\n",
    "May 2022\n",
    "\n",
    "Using ***aertslab/SCENICprotocol/notebooks/PBMC10k_SCENIC-protocol-CLI.ipynb*** as template, walk through an abbrevieated version of the standard workflow. \n",
    "\n",
    "The main purpose is to complete the SCENIC analysis workflow and export relevant results, which will be used in downstream analyses and plots.\n",
    "\n",
    "Won't apply scanpy filters since we've already done that in R with `scater`."
   ]
  },
  {
   "cell_type": "code",
   "execution_count": 1,
   "metadata": {},
   "outputs": [],
   "source": [
    "# import dependencies\n",
    "import os\n",
    "import numpy as np\n",
    "import pandas as pd\n",
    "import scanpy as sc\n",
    "import loompy as lp\n",
    "import anndata as ad"
   ]
  },
  {
   "cell_type": "code",
   "execution_count": 2,
   "metadata": {},
   "outputs": [],
   "source": [
    "# set variables for file paths to read from and write to:\n",
    "\n",
    "# set a working directory\n",
    "wdir = \".\"\n",
    "os.chdir( wdir )\n",
    "\n",
    "# path to loom file with QC applied (created in rscripts, converted from Seurat object)\n",
    "f_loom_path_scenic = \"../data/scenic_protocol/files/hpcs_lps.loom\"\n",
    "\n",
    "# path to anndata object\n",
    "f_anndata_path = \"../data/processed/hpcs_lps_state_marked.h5ad\"\n",
    "\n",
    "# path to pyscenic output\n",
    "f_pyscenic_output = \"../data/scenic_protocol/files/hpcs_lps_pyscenic_output.loom\""
   ]
  },
  {
   "cell_type": "code",
   "execution_count": 3,
   "metadata": {},
   "outputs": [],
   "source": [
    "sc.settings.verbosity = 3 # verbosity: errors (0), warnings (1), info (2), hints (3)\n",
    "# sc.logging.print_versions()\n",
    "sc.set_figure_params(dpi=150, fontsize=10, dpi_save=300)"
   ]
  },
  {
   "cell_type": "code",
   "execution_count": 4,
   "metadata": {},
   "outputs": [],
   "source": [
    "# Set maximum number of jobs for Scanpy.\n",
    "sc.settings.njobs = 20"
   ]
  },
  {
   "cell_type": "markdown",
   "metadata": {},
   "source": [
    "## Expression data import\n",
    "There are several ways to import expression data. For simplicity we focus on getting the data into a Scanpy anndata object or a loom file.  Scanpy provides functions for reading in a wide variety of formats (described [here](https://icb-scanpy.readthedocs-hosted.com/en/stable/api/index.html#reading))."
   ]
  },
  {
   "cell_type": "markdown",
   "metadata": {},
   "source": [
    "### Reading in expression data: anndata processed and exported from seurat_to_anndata script"
   ]
  },
  {
   "cell_type": "code",
   "execution_count": 5,
   "metadata": {
    "scrolled": true
   },
   "outputs": [],
   "source": [
    "adata = sc.read_h5ad(f_anndata_path)"
   ]
  },
  {
   "cell_type": "markdown",
   "metadata": {},
   "source": [
    "## SCENIC steps"
   ]
  },
  {
   "cell_type": "markdown",
   "metadata": {},
   "source": [
    "### STEP 1: Gene regulatory network inference, and generation of co-expression modules\n",
    "\n",
    "For this step the CLI version of SCENIC is used. This step can be deployed on an High Performance Computing system. We use the counts matrix (without log transformation or further processing) from the loom file we wrote earlier.\n",
    "_Output:_ List of adjacencies between a TF and its targets stored in `ADJACENCIES_FNAME`."
   ]
  },
  {
   "cell_type": "code",
   "execution_count": 7,
   "metadata": {},
   "outputs": [],
   "source": [
    "# transcription factors list\n",
    "f_tfs = \"../data/scenic_protocol/resources/allTFs_mm.txt\" # mouse\n",
    "# tf_names = load_tf_names( f_tfs )"
   ]
  },
  {
   "cell_type": "markdown",
   "metadata": {},
   "source": [
    "<span style=\"color:orange\">**The following step was performed using the aertslab/pyscenic:0.11.2 docker container.**</span>"
   ]
  },
  {
   "cell_type": "code",
   "execution_count": 19,
   "metadata": {},
   "outputs": [],
   "source": [
    "## NOT DO\n",
    "# !pyscenic grn {f_loom_path_scenic} \\\n",
    "#               {f_tfs} \\\n",
    "#               -o ../data/scenic_protocol/files/adj.csv \\\n",
    "#               --num_workers 6"
   ]
  },
  {
   "cell_type": "markdown",
   "metadata": {},
   "source": [
    "read in the adjacencies matrix:"
   ]
  },
  {
   "cell_type": "code",
   "execution_count": 6,
   "metadata": {},
   "outputs": [],
   "source": [
    "adjacencies = pd.read_csv(\"../data/scenic_protocol/files/adj.tsv\", index_col=False, sep='\\t')"
   ]
  },
  {
   "cell_type": "code",
   "execution_count": 17,
   "metadata": {},
   "outputs": [
    {
     "data": {
      "text/html": [
       "<div>\n",
       "<style scoped>\n",
       "    .dataframe tbody tr th:only-of-type {\n",
       "        vertical-align: middle;\n",
       "    }\n",
       "\n",
       "    .dataframe tbody tr th {\n",
       "        vertical-align: top;\n",
       "    }\n",
       "\n",
       "    .dataframe thead th {\n",
       "        text-align: right;\n",
       "    }\n",
       "</style>\n",
       "<table border=\"1\" class=\"dataframe\">\n",
       "  <thead>\n",
       "    <tr style=\"text-align: right;\">\n",
       "      <th></th>\n",
       "      <th>TF</th>\n",
       "      <th>target</th>\n",
       "      <th>importance</th>\n",
       "    </tr>\n",
       "  </thead>\n",
       "  <tbody>\n",
       "    <tr>\n",
       "      <th>0</th>\n",
       "      <td>Tbx19</td>\n",
       "      <td>Pomc</td>\n",
       "      <td>189.687483</td>\n",
       "    </tr>\n",
       "    <tr>\n",
       "      <th>1</th>\n",
       "      <td>Tbx19</td>\n",
       "      <td>Sparcl1</td>\n",
       "      <td>186.891465</td>\n",
       "    </tr>\n",
       "    <tr>\n",
       "      <th>2</th>\n",
       "      <td>Egr1</td>\n",
       "      <td>Fos</td>\n",
       "      <td>172.819609</td>\n",
       "    </tr>\n",
       "    <tr>\n",
       "      <th>3</th>\n",
       "      <td>Tbx19</td>\n",
       "      <td>AW551984</td>\n",
       "      <td>148.096466</td>\n",
       "    </tr>\n",
       "    <tr>\n",
       "      <th>4</th>\n",
       "      <td>Tbx19</td>\n",
       "      <td>Mcub</td>\n",
       "      <td>146.347121</td>\n",
       "    </tr>\n",
       "  </tbody>\n",
       "</table>\n",
       "</div>"
      ],
      "text/plain": [
       "      TF    target  importance\n",
       "0  Tbx19      Pomc  189.687483\n",
       "1  Tbx19   Sparcl1  186.891465\n",
       "2   Egr1       Fos  172.819609\n",
       "3  Tbx19  AW551984  148.096466\n",
       "4  Tbx19      Mcub  146.347121"
      ]
     },
     "execution_count": 17,
     "metadata": {},
     "output_type": "execute_result"
    }
   ],
   "source": [
    "adjacencies.head()"
   ]
  },
  {
   "cell_type": "markdown",
   "metadata": {},
   "source": [
    "### STEP 2-3: Regulon prediction aka cisTarget\n",
    "\n",
    "For this step the CLI version of SCENIC is used. This step can be deployed on an High Performance Computing system.\n",
    "\n",
    "_Output:_ List of adjacencies between a TF and its targets stored in `MOTIFS_FNAME`."
   ]
  },
  {
   "cell_type": "markdown",
   "metadata": {},
   "source": [
    "locations for ranking databases, and motif annotations:"
   ]
  },
  {
   "cell_type": "code",
   "execution_count": 8,
   "metadata": {},
   "outputs": [],
   "source": [
    "import glob\n",
    "# ranking databases\n",
    "f_db_glob = \"../data/scenic_protocol/resources/*feather\"\n",
    "f_db_names = ' '.join( glob.glob(f_db_glob) )\n",
    "\n",
    "# motif databases\n",
    "f_motif_path = \"../data/scenic_protocol/resources/motifs-v9-nr.mgi-m0.001-o0.0.tbl\""
   ]
  },
  {
   "cell_type": "markdown",
   "metadata": {},
   "source": [
    "Here, we use the `--mask_dropouts` option, which affects how the correlation between TF and target genes is calculated during module creation. It is important to note that prior to pySCENIC v0.9.18, the default behavior was to mask dropouts, while in v0.9.18 and later, the correlation is performed using the entire set of cells (including those with zero expression). When using the `modules_from_adjacencies` function directly in python instead of via the command line, the `rho_mask_dropouts` option can be used to control this."
   ]
  },
  {
   "cell_type": "markdown",
   "metadata": {},
   "source": [
    "<span style=\"color:orange\">**The following step was performed using the aertslab/pyscenic:0.11.2 docker container.**</span>"
   ]
  },
  {
   "cell_type": "code",
   "execution_count": 20,
   "metadata": {},
   "outputs": [],
   "source": [
    "## NOT DO\n",
    "# !pyscenic ctx ../data/scenic_protocol/files/adj.tsv \\\n",
    "#               {f_db_names} \\\n",
    "#               --annotations_fname {f_motif_path} \\\n",
    "#               --expression_mtx_fname {f_loom_path_scenic} \\\n",
    "#               --mode \"dask_multiprocessing\" \\\n",
    "#               --output {'../data/scenic_protocol/files/regulons.csv'} \\\n",
    "#               --mask_dropouts \\\n",
    "#               --num_workers 16"
   ]
  },
  {
   "cell_type": "markdown",
   "metadata": {},
   "source": [
    "### STEP 4: Cellular enrichment (aka AUCell) from CLI\n",
    "\n",
    "It is important to check that most cells have a substantial fraction of expressed/detected genes in the calculation of the AUC.\n",
    "The following histogram gives an idea of the distribution and allows selection of an appropriate threshold.\n",
    "In this plot, a few thresholds are highlighted, with the number of genes selected shown in red text and the corresponding percentile in parentheses).\n",
    "See [the relevant section in the R tutorial](https://bioconductor.org/packages/devel/bioc/vignettes/AUCell/inst/doc/AUCell.html#build-gene-expression-rankings-for-each-cell) for more information.\n",
    "\n",
    "By using the default setting for `--auc_threshold` of `0.05`, we see that **317** genes are selected for the rankings based on the plot below."
   ]
  },
  {
   "cell_type": "code",
   "execution_count": 20,
   "metadata": {},
   "outputs": [
    {
     "name": "stdout",
     "output_type": "stream",
     "text": [
      "            0\n",
      "0.01   259.72\n",
      "0.05   317.60\n",
      "0.10   364.00\n",
      "0.50   661.00\n",
      "1.00  1124.00\n"
     ]
    }
   ],
   "source": [
    "nGenesDetectedPerCell = pd.DataFrame(np.sum(adata.X>0, axis=1))\n",
    "percentiles = nGenesDetectedPerCell.quantile(q=[.01, .05, .10, .50, 1])\n",
    "print(percentiles)"
   ]
  },
  {
   "cell_type": "code",
   "execution_count": 21,
   "metadata": {
    "scrolled": true
   },
   "outputs": [
    {
     "data": {
      "image/png": "[encoded data removed]",
      "text/plain": [
       "<Figure size 1200x750 with 1 Axes>"
      ]
     },
     "metadata": {
      "needs_background": "light"
     },
     "output_type": "display_data"
    }
   ],
   "source": [
    "fig, ax = plt.subplots(1, 1, figsize=(8, 5), dpi=150)\n",
    "sns.histplot(nGenesDetectedPerCell, kde=False, bins='fd')\n",
    "for i, x in percentiles.iterrows():\n",
    "    fig.gca().axvline(x=int(x), ymin=0,ymax=1, color='red')\n",
    "    ax.text(x=x, y=ax.get_ylim()[1], s=f'{int(x)} ({float(i)*100}%)', color='red', rotation=30, size='x-small',rotation_mode='anchor' )\n",
    "ax.set_xlabel('# of genes')\n",
    "ax.set_ylabel('# of cells')\n",
    "fig.tight_layout()"
   ]
  },
  {
   "cell_type": "markdown",
   "metadata": {},
   "source": [
    "<span style=\"color:orange\">**In the `pyscenic aucell` step, docker container `aertslab/pyscenic:0.11.2` failed due to loompy version [issues](https://github.com/aertslab/pySCENIC/issues/105). Run `pyscenic aucell` in CLI or in this notebook with `loompy==2.0.17`.**</span>"
   ]
  },
  {
   "cell_type": "code",
   "execution_count": 128,
   "metadata": {
    "scrolled": true
   },
   "outputs": [
    {
     "name": "stdout",
     "output_type": "stream",
     "text": [
      "/home/luolab/miniconda3/envs/scenic_protocol/lib/python3.7/site-packages/numba/np/ufunc/parallel.py:363: NumbaWarning: The TBB threading layer requires TBB version 2019.5 or later i.e., TBB_INTERFACE_VERSION >= 11005. Found TBB_INTERFACE_VERSION = 9107. The TBB threading layer is disabled.\n",
      "  warnings.warn(problem)\n",
      "\n",
      "2021-12-28 13:31:05,837 - pyscenic.cli.pyscenic - INFO - Loading expression matrix.\n",
      "\n",
      "2021-12-28 13:31:06,373 - pyscenic.cli.pyscenic - INFO - Loading gene signatures.\n",
      "Create regulons from a dataframe of enriched features.\n",
      "Additional columns saved: []\n",
      "\n",
      "2021-12-28 13:31:10,339 - pyscenic.cli.pyscenic - INFO - Calculating cellular enrichment.\n",
      "\n",
      "2021-12-28 13:31:14,132 - pyscenic.cli.pyscenic - INFO - Writing results to file.\n",
      "\n",
      "2021-12-28 13:31:34,569 - pyscenic.cli.pyscenic - ERROR - Expression matrix should be provided in the loom file format.\n"
     ]
    }
   ],
   "source": [
    "# !pyscenic aucell {f_loom_path_scenic} \\\n",
    "#                  {'../data/scenic_protocol/files/regulons.csv'} \\\n",
    "#                  --output {f_pyscenic_output} \\\n",
    "#                  --num_workers 16"
   ]
  },
  {
   "cell_type": "markdown",
   "metadata": {},
   "source": [
    "### Visualization of SCENIC's AUC matrix"
   ]
  },
  {
   "cell_type": "markdown",
   "metadata": {},
   "source": [
    "Perform non-linear dimension reduction on the AUC matrix with `umap`."
   ]
  },
  {
   "cell_type": "code",
   "execution_count": 9,
   "metadata": {},
   "outputs": [],
   "source": [
    "import json\n",
    "import zlib\n",
    "import base64\n",
    "\n",
    "# collect SCENIC AUCell output\n",
    "lf = lp.connect( f_pyscenic_output, mode='r+', validate=False )\n",
    "auc_mtx = pd.DataFrame( lf.ca.RegulonsAUC, index=lf.ca.CellID)\n",
    "lf.close()"
   ]
  },
  {
   "cell_type": "code",
   "execution_count": 27,
   "metadata": {},
   "outputs": [
    {
     "name": "stderr",
     "output_type": "stream",
     "text": [
      "/home/luolab/miniconda3/envs/scenic_protocol/lib/python3.7/site-packages/numba/np/ufunc/parallel.py:363: NumbaWarning: The TBB threading layer requires TBB version 2019.5 or later i.e., TBB_INTERFACE_VERSION >= 11005. Found TBB_INTERFACE_VERSION = 9107. The TBB threading layer is disabled.\n",
      "  warnings.warn(problem)\n"
     ]
    }
   ],
   "source": [
    "# import umap\n",
    "\n",
    "# # UMAP\n",
    "# runUmap = umap.UMAP(n_neighbors=10, min_dist=0.4, metric='correlation').fit_transform\n",
    "# dr_umap = runUmap( auc_mtx )\n",
    "# pd.DataFrame(dr_umap, columns=['UMAPscenic_1', 'UMAPscenic_2'], index=auc_mtx.index).to_csv( \"../data/scenic_protocol/files/scenic_umap_coords.txt\", sep='\\t')"
   ]
  },
  {
   "cell_type": "markdown",
   "metadata": {},
   "source": [
    "### Step 5 - Regulon activity binarization"
   ]
  },
  {
   "cell_type": "code",
   "execution_count": 10,
   "metadata": {},
   "outputs": [],
   "source": [
    "from pyscenic.binarization import binarize"
   ]
  },
  {
   "cell_type": "code",
   "execution_count": 11,
   "metadata": {},
   "outputs": [],
   "source": [
    "bin_mtx, thresholds = binarize(auc_mtx, num_workers=16)"
   ]
  },
  {
   "cell_type": "code",
   "execution_count": 13,
   "metadata": {},
   "outputs": [],
   "source": [
    "bin_mtx.to_csv('../data/scenic_protocol/files/bin_mtx.csv')\n",
    "thresholds.to_frame().rename(columns={0:'threshold'}).to_csv('../data/scenic_protocol/files/thresholds.csv')"
   ]
  },
  {
   "cell_type": "code",
   "execution_count": null,
   "metadata": {},
   "outputs": [],
   "source": []
  }
 ],
 "metadata": {
  "interpreter": {
   "hash": "1c76cc0aeef1fccf5df16595787a8911f3977520f84b2bc7656c9dae3b477792"
  },
  "kernelspec": {
   "display_name": "Python 3 (ipykernel)",
   "language": "python",
   "name": "python3"
  },
  "language_info": {
   "codemirror_mode": {
    "name": "ipython",
    "version": 3
   },
   "file_extension": ".py",
   "mimetype": "text/x-python",
   "name": "python",
   "nbconvert_exporter": "python",
   "pygments_lexer": "ipython3",
   "version": "3.7.9"
  }
 },
 "nbformat": 4,
 "nbformat_minor": 2
}
