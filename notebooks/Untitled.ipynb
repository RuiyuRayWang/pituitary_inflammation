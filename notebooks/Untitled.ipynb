{
 "cells": [
  {
   "cell_type": "code",
   "execution_count": 1,
   "id": "ab85bf50",
   "metadata": {},
   "outputs": [],
   "source": [
    "import os\n",
    "from pathlib import Path\n",
    "import numpy as np, pandas as pd, scanpy as sc, loompy as lp, anndata as ad"
   ]
  },
  {
   "cell_type": "code",
   "execution_count": null,
   "id": "4d54dc77",
   "metadata": {},
   "outputs": [],
   "source": [
    "# set working directory\n",
    "wdir = '.'\n",
    "os.chdir( wdir )\n",
    "\n",
    "PATH_TO_BIN_MTX = Path(\"../data/scenic_protocol/files/bin_mtx.csv\")\n",
    "PATH_TO_THRESHOLD = Path(\"../data/scenic_protocol/files/thresholds.csv\")\n",
    "\n"
   ]
  }
 ],
 "metadata": {
  "kernelspec": {
   "display_name": "scenic_protocol",
   "language": "python",
   "name": "scenic_protocol"
  },
  "language_info": {
   "codemirror_mode": {
    "name": "ipython",
    "version": 3
   },
   "file_extension": ".py",
   "mimetype": "text/x-python",
   "name": "python",
   "nbconvert_exporter": "python",
   "pygments_lexer": "ipython3",
   "version": "3.7.9"
  }
 },
 "nbformat": 4,
 "nbformat_minor": 5
}
